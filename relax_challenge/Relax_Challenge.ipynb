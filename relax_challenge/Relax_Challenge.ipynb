{
 "cells": [
  {
   "cell_type": "code",
   "execution_count": 1,
   "metadata": {},
   "outputs": [],
   "source": [
    "import pandas as pd\n",
    "import numpy as np\n",
    "import seaborn as sns\n",
    "import matplotlib.pyplot as plt\n",
    "import datetime as dt"
   ]
  },
  {
   "cell_type": "code",
   "execution_count": 2,
   "metadata": {},
   "outputs": [
    {
     "data": {
      "text/html": [
       "<div>\n",
       "<table border=\"1\" class=\"dataframe\">\n",
       "  <thead>\n",
       "    <tr style=\"text-align: right;\">\n",
       "      <th></th>\n",
       "      <th>object_id</th>\n",
       "      <th>creation_time</th>\n",
       "      <th>name</th>\n",
       "      <th>email</th>\n",
       "      <th>creation_source</th>\n",
       "      <th>last_session_creation_time</th>\n",
       "      <th>opted_in_to_mailing_list</th>\n",
       "      <th>enabled_for_marketing_drip</th>\n",
       "      <th>org_id</th>\n",
       "      <th>invited_by_user_id</th>\n",
       "    </tr>\n",
       "  </thead>\n",
       "  <tbody>\n",
       "    <tr>\n",
       "      <th>0</th>\n",
       "      <td>1</td>\n",
       "      <td>2014-04-22 03:53:30</td>\n",
       "      <td>Clausen August</td>\n",
       "      <td>AugustCClausen@yahoo.com</td>\n",
       "      <td>GUEST_INVITE</td>\n",
       "      <td>1.398139e+09</td>\n",
       "      <td>1</td>\n",
       "      <td>0</td>\n",
       "      <td>11</td>\n",
       "      <td>10803.0</td>\n",
       "    </tr>\n",
       "    <tr>\n",
       "      <th>1</th>\n",
       "      <td>2</td>\n",
       "      <td>2013-11-15 03:45:04</td>\n",
       "      <td>Poole Matthew</td>\n",
       "      <td>MatthewPoole@gustr.com</td>\n",
       "      <td>ORG_INVITE</td>\n",
       "      <td>1.396238e+09</td>\n",
       "      <td>0</td>\n",
       "      <td>0</td>\n",
       "      <td>1</td>\n",
       "      <td>316.0</td>\n",
       "    </tr>\n",
       "    <tr>\n",
       "      <th>2</th>\n",
       "      <td>3</td>\n",
       "      <td>2013-03-19 23:14:52</td>\n",
       "      <td>Bottrill Mitchell</td>\n",
       "      <td>MitchellBottrill@gustr.com</td>\n",
       "      <td>ORG_INVITE</td>\n",
       "      <td>1.363735e+09</td>\n",
       "      <td>0</td>\n",
       "      <td>0</td>\n",
       "      <td>94</td>\n",
       "      <td>1525.0</td>\n",
       "    </tr>\n",
       "    <tr>\n",
       "      <th>3</th>\n",
       "      <td>4</td>\n",
       "      <td>2013-05-21 08:09:28</td>\n",
       "      <td>Clausen Nicklas</td>\n",
       "      <td>NicklasSClausen@yahoo.com</td>\n",
       "      <td>GUEST_INVITE</td>\n",
       "      <td>1.369210e+09</td>\n",
       "      <td>0</td>\n",
       "      <td>0</td>\n",
       "      <td>1</td>\n",
       "      <td>5151.0</td>\n",
       "    </tr>\n",
       "    <tr>\n",
       "      <th>4</th>\n",
       "      <td>5</td>\n",
       "      <td>2013-01-17 10:14:20</td>\n",
       "      <td>Raw Grace</td>\n",
       "      <td>GraceRaw@yahoo.com</td>\n",
       "      <td>GUEST_INVITE</td>\n",
       "      <td>1.358850e+09</td>\n",
       "      <td>0</td>\n",
       "      <td>0</td>\n",
       "      <td>193</td>\n",
       "      <td>5240.0</td>\n",
       "    </tr>\n",
       "  </tbody>\n",
       "</table>\n",
       "</div>"
      ],
      "text/plain": [
       "   object_id        creation_time               name  \\\n",
       "0          1  2014-04-22 03:53:30     Clausen August   \n",
       "1          2  2013-11-15 03:45:04      Poole Matthew   \n",
       "2          3  2013-03-19 23:14:52  Bottrill Mitchell   \n",
       "3          4  2013-05-21 08:09:28    Clausen Nicklas   \n",
       "4          5  2013-01-17 10:14:20          Raw Grace   \n",
       "\n",
       "                        email creation_source  last_session_creation_time  \\\n",
       "0    AugustCClausen@yahoo.com    GUEST_INVITE                1.398139e+09   \n",
       "1      MatthewPoole@gustr.com      ORG_INVITE                1.396238e+09   \n",
       "2  MitchellBottrill@gustr.com      ORG_INVITE                1.363735e+09   \n",
       "3   NicklasSClausen@yahoo.com    GUEST_INVITE                1.369210e+09   \n",
       "4          GraceRaw@yahoo.com    GUEST_INVITE                1.358850e+09   \n",
       "\n",
       "   opted_in_to_mailing_list  enabled_for_marketing_drip  org_id  \\\n",
       "0                         1                           0      11   \n",
       "1                         0                           0       1   \n",
       "2                         0                           0      94   \n",
       "3                         0                           0       1   \n",
       "4                         0                           0     193   \n",
       "\n",
       "   invited_by_user_id  \n",
       "0             10803.0  \n",
       "1               316.0  \n",
       "2              1525.0  \n",
       "3              5151.0  \n",
       "4              5240.0  "
      ]
     },
     "execution_count": 2,
     "metadata": {},
     "output_type": "execute_result"
    }
   ],
   "source": [
    "df_users=pd.read_csv(\"takehome_users.csv\")\n",
    "df_users.head()"
   ]
  },
  {
   "cell_type": "code",
   "execution_count": 3,
   "metadata": {},
   "outputs": [
    {
     "name": "stdout",
     "output_type": "stream",
     "text": [
      "<class 'pandas.core.frame.DataFrame'>\n",
      "RangeIndex: 12000 entries, 0 to 11999\n",
      "Data columns (total 10 columns):\n",
      "object_id                     12000 non-null int64\n",
      "creation_time                 12000 non-null object\n",
      "name                          12000 non-null object\n",
      "email                         12000 non-null object\n",
      "creation_source               12000 non-null object\n",
      "last_session_creation_time    8823 non-null float64\n",
      "opted_in_to_mailing_list      12000 non-null int64\n",
      "enabled_for_marketing_drip    12000 non-null int64\n",
      "org_id                        12000 non-null int64\n",
      "invited_by_user_id            6417 non-null float64\n",
      "dtypes: float64(2), int64(4), object(4)\n",
      "memory usage: 937.6+ KB\n"
     ]
    }
   ],
   "source": [
    "df_users.info()"
   ]
  },
  {
   "cell_type": "code",
   "execution_count": 4,
   "metadata": {},
   "outputs": [
    {
     "data": {
      "text/html": [
       "<div>\n",
       "<table border=\"1\" class=\"dataframe\">\n",
       "  <thead>\n",
       "    <tr style=\"text-align: right;\">\n",
       "      <th></th>\n",
       "      <th>time_stamp</th>\n",
       "      <th>user_id</th>\n",
       "      <th>visited</th>\n",
       "    </tr>\n",
       "  </thead>\n",
       "  <tbody>\n",
       "    <tr>\n",
       "      <th>0</th>\n",
       "      <td>2014-04-22 03:53:30</td>\n",
       "      <td>1</td>\n",
       "      <td>1</td>\n",
       "    </tr>\n",
       "    <tr>\n",
       "      <th>1</th>\n",
       "      <td>2013-11-15 03:45:04</td>\n",
       "      <td>2</td>\n",
       "      <td>1</td>\n",
       "    </tr>\n",
       "    <tr>\n",
       "      <th>2</th>\n",
       "      <td>2013-11-29 03:45:04</td>\n",
       "      <td>2</td>\n",
       "      <td>1</td>\n",
       "    </tr>\n",
       "    <tr>\n",
       "      <th>3</th>\n",
       "      <td>2013-12-09 03:45:04</td>\n",
       "      <td>2</td>\n",
       "      <td>1</td>\n",
       "    </tr>\n",
       "    <tr>\n",
       "      <th>4</th>\n",
       "      <td>2013-12-25 03:45:04</td>\n",
       "      <td>2</td>\n",
       "      <td>1</td>\n",
       "    </tr>\n",
       "  </tbody>\n",
       "</table>\n",
       "</div>"
      ],
      "text/plain": [
       "            time_stamp  user_id  visited\n",
       "0  2014-04-22 03:53:30        1        1\n",
       "1  2013-11-15 03:45:04        2        1\n",
       "2  2013-11-29 03:45:04        2        1\n",
       "3  2013-12-09 03:45:04        2        1\n",
       "4  2013-12-25 03:45:04        2        1"
      ]
     },
     "execution_count": 4,
     "metadata": {},
     "output_type": "execute_result"
    }
   ],
   "source": [
    "df_engage=pd.read_csv(\"takehome_user_engagement.csv\")\n",
    "df_engage.head()"
   ]
  },
  {
   "cell_type": "markdown",
   "metadata": {},
   "source": [
    "## Classifying users as adopted or non-adopted"
   ]
  },
  {
   "cell_type": "code",
   "execution_count": 5,
   "metadata": {},
   "outputs": [],
   "source": [
    "# convert to date-time format\n",
    "df_engage['date_time']=pd.to_datetime(df_engage.time_stamp)\n",
    "df_engage.reset_index(inplace=True)\n",
    "df_engage.set_index(pd.DatetimeIndex(df_engage['date_time']), inplace=True)"
   ]
  },
  {
   "cell_type": "code",
   "execution_count": 6,
   "metadata": {},
   "outputs": [],
   "source": [
    "# get counts per day\n",
    "per_day=df_engage.groupby([pd.TimeGrouper('D'), 'user_id'])['visited'].sum()\n",
    "per_day=per_day.reset_index()\n",
    "per_day.sort_values(['user_id', 'date_time'], ascending=[True, False], inplace=True)\n",
    "per_day.set_index(pd.DatetimeIndex(per_day['date_time']), inplace=True)"
   ]
  },
  {
   "cell_type": "code",
   "execution_count": 7,
   "metadata": {},
   "outputs": [
    {
     "data": {
      "text/html": [
       "<div>\n",
       "<table border=\"1\" class=\"dataframe\">\n",
       "  <thead>\n",
       "    <tr style=\"text-align: right;\">\n",
       "      <th></th>\n",
       "      <th></th>\n",
       "      <th>date_time</th>\n",
       "      <th>user_id</th>\n",
       "      <th>visited</th>\n",
       "    </tr>\n",
       "    <tr>\n",
       "      <th>user_id</th>\n",
       "      <th></th>\n",
       "      <th></th>\n",
       "      <th></th>\n",
       "      <th></th>\n",
       "    </tr>\n",
       "  </thead>\n",
       "  <tbody>\n",
       "    <tr>\n",
       "      <th>1</th>\n",
       "      <th>2014-04-22</th>\n",
       "      <td>2014-04-22</td>\n",
       "      <td>1</td>\n",
       "      <td>1</td>\n",
       "    </tr>\n",
       "    <tr>\n",
       "      <th rowspan=\"4\" valign=\"top\">2</th>\n",
       "      <th>2013-11-15</th>\n",
       "      <td>2013-11-15</td>\n",
       "      <td>2</td>\n",
       "      <td>1</td>\n",
       "    </tr>\n",
       "    <tr>\n",
       "      <th>2013-11-16</th>\n",
       "      <td>1970-01-01</td>\n",
       "      <td>0</td>\n",
       "      <td>0</td>\n",
       "    </tr>\n",
       "    <tr>\n",
       "      <th>2013-11-17</th>\n",
       "      <td>1970-01-01</td>\n",
       "      <td>0</td>\n",
       "      <td>0</td>\n",
       "    </tr>\n",
       "    <tr>\n",
       "      <th>2013-11-18</th>\n",
       "      <td>1970-01-01</td>\n",
       "      <td>0</td>\n",
       "      <td>0</td>\n",
       "    </tr>\n",
       "  </tbody>\n",
       "</table>\n",
       "</div>"
      ],
      "text/plain": [
       "                    date_time  user_id  visited\n",
       "user_id                                        \n",
       "1       2014-04-22 2014-04-22        1        1\n",
       "2       2013-11-15 2013-11-15        2        1\n",
       "        2013-11-16 1970-01-01        0        0\n",
       "        2013-11-17 1970-01-01        0        0\n",
       "        2013-11-18 1970-01-01        0        0"
      ]
     },
     "execution_count": 7,
     "metadata": {},
     "output_type": "execute_result"
    }
   ],
   "source": [
    "#fill in the missing dates and add zeros to the visited column\n",
    "def fill_dates(group):\n",
    "    idx = pd.date_range(group.date_time.min(), group.date_time.max())\n",
    "    return group.reindex(idx, fill_value=0)\n",
    "per_day_alldates=per_day.groupby('user_id').apply(fill_dates)\n",
    "per_day_alldates.head()"
   ]
  },
  {
   "cell_type": "code",
   "execution_count": 8,
   "metadata": {},
   "outputs": [],
   "source": [
    "#remove user_id column as filled with zeros when reindexing \n",
    "per_day_alldates_visits=per_day_alldates[['visited']] \n",
    "#reset index to make user_id a column, keep only dates indexed\n",
    "per_day_alldates_visits.reset_index(level='user_id',inplace=True) \n",
    "#calculate a rollingsum from first to last login date, to get logins in a 7-day window \n",
    "seven_day_sum=per_day_alldates_visits.groupby('user_id')['visited'].rolling(7).sum()\n",
    "seven_day_sum=seven_day_sum.reset_index(level='user_id') "
   ]
  },
  {
   "cell_type": "code",
   "execution_count": 9,
   "metadata": {},
   "outputs": [
    {
     "name": "stderr",
     "output_type": "stream",
     "text": [
      "/Users/taniajogesh/anaconda/lib/python2.7/site-packages/ipykernel/__main__.py:8: SettingWithCopyWarning: \n",
      "A value is trying to be set on a copy of a slice from a DataFrame\n",
      "\n",
      "See the caveats in the documentation: http://pandas.pydata.org/pandas-docs/stable/indexing.html#indexing-view-versus-copy\n"
     ]
    },
    {
     "data": {
      "text/html": [
       "<div>\n",
       "<table border=\"1\" class=\"dataframe\">\n",
       "  <thead>\n",
       "    <tr style=\"text-align: right;\">\n",
       "      <th></th>\n",
       "      <th>user_id</th>\n",
       "      <th>visited</th>\n",
       "      <th>adopted</th>\n",
       "    </tr>\n",
       "  </thead>\n",
       "  <tbody>\n",
       "    <tr>\n",
       "      <th>0</th>\n",
       "      <td>1</td>\n",
       "      <td>0.0</td>\n",
       "      <td>False</td>\n",
       "    </tr>\n",
       "    <tr>\n",
       "      <th>1</th>\n",
       "      <td>2</td>\n",
       "      <td>3.0</td>\n",
       "      <td>True</td>\n",
       "    </tr>\n",
       "    <tr>\n",
       "      <th>2</th>\n",
       "      <td>3</td>\n",
       "      <td>0.0</td>\n",
       "      <td>False</td>\n",
       "    </tr>\n",
       "    <tr>\n",
       "      <th>3</th>\n",
       "      <td>4</td>\n",
       "      <td>0.0</td>\n",
       "      <td>False</td>\n",
       "    </tr>\n",
       "    <tr>\n",
       "      <th>4</th>\n",
       "      <td>5</td>\n",
       "      <td>0.0</td>\n",
       "      <td>False</td>\n",
       "    </tr>\n",
       "  </tbody>\n",
       "</table>\n",
       "</div>"
      ],
      "text/plain": [
       "   user_id  visited adopted\n",
       "0        1      0.0   False\n",
       "1        2      3.0    True\n",
       "2        3      0.0   False\n",
       "3        4      0.0   False\n",
       "4        5      0.0   False"
      ]
     },
     "execution_count": 9,
     "metadata": {},
     "output_type": "execute_result"
    }
   ],
   "source": [
    "#fill NAs with zeros\n",
    "seven_day_sum.fillna(0, inplace=True)\n",
    "#get max logins in a seven day window for each user\n",
    "user_max_logins=seven_day_sum.groupby('user_id')['visited'].max()\n",
    "user_max_logins=user_max_logins.reset_index(level='user_id') \n",
    "#If user has logged in >3 times in 7 day window- mark as adopted \n",
    "user_max_logins['adopted']=True\n",
    "user_max_logins['adopted'][user_max_logins['visited']<3]=False\n",
    "user_max_logins.head()"
   ]
  },
  {
   "cell_type": "code",
   "execution_count": 10,
   "metadata": {},
   "outputs": [
    {
     "name": "stdout",
     "output_type": "stream",
     "text": [
      "<class 'pandas.core.frame.DataFrame'>\n",
      "Int64Index: 8823 entries, 0 to 8822\n",
      "Data columns (total 15 columns):\n",
      "object_id                     8823 non-null int64\n",
      "creation_time                 8823 non-null datetime64[ns]\n",
      "name                          8823 non-null object\n",
      "email                         8823 non-null object\n",
      "creation_source               8823 non-null object\n",
      "last_session_creation_time    8823 non-null float64\n",
      "opted_in_to_mailing_list      8823 non-null int64\n",
      "enabled_for_marketing_drip    8823 non-null int64\n",
      "org_id                        8823 non-null int64\n",
      "invited_by_user_id            4776 non-null float64\n",
      "user_id                       8823 non-null int64\n",
      "visited                       8823 non-null float64\n",
      "adopted                       8823 non-null bool\n",
      "month                         8823 non-null int64\n",
      "year                          8823 non-null int64\n",
      "dtypes: bool(1), datetime64[ns](1), float64(3), int64(7), object(3)\n",
      "memory usage: 1.0+ MB\n"
     ]
    }
   ],
   "source": [
    "full_df=df_users.merge(user_max_logins, left_on='object_id', right_on='user_id', how='inner')\n",
    "full_df['creation_time']=pd.to_datetime(full_df.creation_time)\n",
    "full_df['month']=full_df['creation_time'].dt.month\n",
    "full_df['year']=full_df['creation_time'].dt.year\n",
    "full_df.info()"
   ]
  },
  {
   "cell_type": "markdown",
   "metadata": {},
   "source": [
    "## EDA"
   ]
  },
  {
   "cell_type": "code",
   "execution_count": 11,
   "metadata": {},
   "outputs": [
    {
     "data": {
      "image/png": "[encoded data removed]",
      "text/plain": [
       "<matplotlib.figure.Figure at 0x10e4f8fd0>"
      ]
     },
     "metadata": {},
     "output_type": "display_data"
    }
   ],
   "source": [
    "creation_source=pd.crosstab(index=full_df[\"creation_source\"],  # Make a crosstab\n",
    "                              columns=full_df[\"adopted\"]).apply(lambda r: r/r.sum(), axis=1)\n",
    "creation_source.reset_index(inplace=True)\n",
    "creation_source.columns=['creation_source','False','True']\n",
    "creation_source.sort_values('True',inplace=True)\n",
    "ax = sns.barplot(x=\"creation_source\", y=\"True\", data=creation_source)\n",
    "plt.xlabel(\"creation_source\")\n",
    "plt.ylabel(\"Proportion of adopted users\")\n",
    "plt.title(\"Adopted users based on creation_source\") \n",
    "plt.show()\n"
   ]
  },
  {
   "cell_type": "code",
   "execution_count": 12,
   "metadata": {},
   "outputs": [
    {
     "data": {
      "image/png": "[encoded data removed]",
      "text/plain": [
       "<matplotlib.figure.Figure at 0x1118c0250>"
      ]
     },
     "metadata": {},
     "output_type": "display_data"
    }
   ],
   "source": [
    "opted_in_to_mailing_list=pd.crosstab(index=full_df[\"opted_in_to_mailing_list\"],  # Make a crosstab\n",
    "                              columns=full_df[\"adopted\"]).apply(lambda r: r/r.sum(), axis=1)\n",
    "opted_in_to_mailing_list.reset_index(inplace=True)\n",
    "opted_in_to_mailing_list.columns=['opted_in_to_mailing_list','False','True']\n",
    "opted_in_to_mailing_list.sort_values('True',inplace=True)\n",
    "ax = sns.barplot(x=\"opted_in_to_mailing_list\", y=\"True\", data=opted_in_to_mailing_list)\n",
    "plt.xlabel(\"opted (0=No, 1=Yes)\")\n",
    "plt.ylabel(\"Proportion of adopted users\")\n",
    "plt.title(\"Adopted users based on that opted into the mailing list\") \n",
    "plt.show()\n"
   ]
  },
  {
   "cell_type": "code",
   "execution_count": 13,
   "metadata": {},
   "outputs": [
    {
     "data": {
      "image/png": "[encoded data removed]",
      "text/plain": [
       "<matplotlib.figure.Figure at 0x10da15850>"
      ]
     },
     "metadata": {},
     "output_type": "display_data"
    }
   ],
   "source": [
    "enabled_for_marketing_drip=pd.crosstab(index=full_df[\"enabled_for_marketing_drip\"],  # Make a crosstab\n",
    "                              columns=full_df[\"adopted\"]).apply(lambda r: r/r.sum(), axis=1)\n",
    "enabled_for_marketing_drip.reset_index(inplace=True)\n",
    "enabled_for_marketing_drip.columns=['enabled_for_marketing_drip','False','True']\n",
    "enabled_for_marketing_drip.sort_values('True',inplace=True)\n",
    "ax = sns.barplot(x=\"enabled_for_marketing_drip\", y=\"True\", data=enabled_for_marketing_drip)\n",
    "plt.xlabel(\"enabled_for_marketing_drip (0=No, 1=Yes)\")\n",
    "plt.ylabel(\"Proportion of adopted users\")\n",
    "plt.title(\"Adopted users based on whether they are on the regular marketing email drip\") \n",
    "plt.show()\n"
   ]
  },
  {
   "cell_type": "code",
   "execution_count": 14,
   "metadata": {},
   "outputs": [
    {
     "data": {
      "image/png": "[encoded data removed]",
      "text/plain": [
       "<matplotlib.figure.Figure at 0x112f4f510>"
      ]
     },
     "metadata": {},
     "output_type": "display_data"
    }
   ],
   "source": [
    "month=pd.crosstab(index=full_df[\"month\"],  # Make a crosstab\n",
    "                              columns=full_df[\"adopted\"]).apply(lambda r: r/r.sum(), axis=1)\n",
    "month.reset_index(inplace=True)\n",
    "month.columns=['month','False','True']\n",
    "month.sort_values('True',inplace=True)\n",
    "ax = sns.barplot(x=\"month\", y=\"True\", data=month)\n",
    "plt.xlabel(\"month\")\n",
    "plt.ylabel(\"Proportion of adopted users\")\n",
    "plt.title(\"Adopted users based on month\") \n",
    "plt.show()\n"
   ]
  },
  {
   "cell_type": "code",
   "execution_count": 15,
   "metadata": {},
   "outputs": [
    {
     "data": {
      "image/png": "[encoded data removed]",
      "text/plain": [
       "<matplotlib.figure.Figure at 0x10e9d9d10>"
      ]
     },
     "metadata": {},
     "output_type": "display_data"
    }
   ],
   "source": [
    "year=pd.crosstab(index=full_df[\"year\"],  # Make a crosstab\n",
    "                              columns=full_df[\"adopted\"]).apply(lambda r: r/r.sum(), axis=1)\n",
    "year.reset_index(inplace=True)\n",
    "year.columns=['year','False','True']\n",
    "year.sort_values('True',inplace=True)\n",
    "ax = sns.barplot(x=\"year\", y=\"True\", data=year)\n",
    "plt.xlabel(\"year\")\n",
    "plt.ylabel(\"Proportion of adopted users\")\n",
    "plt.title(\"Adopted users based on year\") \n",
    "plt.show()\n"
   ]
  },
  {
   "cell_type": "markdown",
   "metadata": {},
   "source": [
    "## ML Classifier "
   ]
  },
  {
   "cell_type": "code",
   "execution_count": 16,
   "metadata": {},
   "outputs": [],
   "source": [
    "from sklearn.ensemble import RandomForestClassifier\n",
    "from sklearn.model_selection import train_test_split\n",
    "from sklearn.model_selection import StratifiedShuffleSplit\n",
    "from sklearn.metrics import roc_curve, auc\n",
    "from sklearn.preprocessing import OneHotEncoder\n",
    "from sklearn.preprocessing import LabelEncoder"
   ]
  },
  {
   "cell_type": "code",
   "execution_count": 17,
   "metadata": {},
   "outputs": [
    {
     "name": "stderr",
     "output_type": "stream",
     "text": [
      "/Users/taniajogesh/anaconda/lib/python2.7/site-packages/pandas/core/generic.py:2773: SettingWithCopyWarning: \n",
      "A value is trying to be set on a copy of a slice from a DataFrame.\n",
      "Try using .loc[row_indexer,col_indexer] = value instead\n",
      "\n",
      "See the caveats in the documentation: http://pandas.pydata.org/pandas-docs/stable/indexing.html#indexing-view-versus-copy\n",
      "  self[name] = value\n"
     ]
    }
   ],
   "source": [
    "encoder = OneHotEncoder()\n",
    "label_encoder = LabelEncoder()\n",
    "\n",
    "\n",
    "features = full_df[['creation_source',\n",
    "                    'opted_in_to_mailing_list',\n",
    "                    'enabled_for_marketing_drip',\n",
    "                    'last_session_creation_time',\n",
    "                    'org_id',\n",
    "                    'month',\n",
    "                    'year']]\n",
    "target = full_df['adopted']\n",
    "\n",
    "features.month = label_encoder.fit_transform(features['month'])\n",
    "features.year = label_encoder.fit_transform(features['year'])\n",
    "features.org_id = label_encoder.fit_transform(features['org_id'])\n",
    "features.creation_source = label_encoder.fit_transform(features['creation_source'])\n",
    "\n",
    "\n",
    "month = encoder.fit_transform(features[['month']]).toarray()\n",
    "year = encoder.fit_transform(features[['year']]).toarray()\n",
    "org = encoder.fit_transform(features[['org_id']]).toarray()\n",
    "source = encoder.fit_transform(features[['creation_source']]).toarray()\n",
    "\n",
    "\n",
    "numeric_cols = ['opted_in_to_mailing_list','enabled_for_marketing_drip','last_session_creation_time']\n",
    "numeric_features = features[numeric_cols].values\n",
    "\n",
    "Y = label_encoder.fit_transform(target)\n",
    "X=np.concatenate([month,year,org,source,numeric_features], axis=1)"
   ]
  },
  {
   "cell_type": "code",
   "execution_count": 18,
   "metadata": {},
   "outputs": [
    {
     "name": "stdout",
     "output_type": "stream",
     "text": [
      "Accuracy on training data: 0.999838\n",
      "Accuracy on test data:     0.955799\n"
     ]
    }
   ],
   "source": [
    "xtrain, xtest, ytrain, ytest = train_test_split(X,Y, test_size=0.30)\n",
    "forest = RandomForestClassifier(n_estimators = 100) \n",
    "forest = forest.fit(xtrain, ytrain)\n",
    "training_accuracy = forest.score(xtrain, ytrain)\n",
    "test_accuracy = forest.score(xtest, ytest)\n",
    "print(\"Accuracy on training data: {:2f}\".format(training_accuracy))\n",
    "print(\"Accuracy on test data:     {:2f}\".format(test_accuracy))"
   ]
  },
  {
   "cell_type": "code",
   "execution_count": 19,
   "metadata": {},
   "outputs": [
    {
     "name": "stdout",
     "output_type": "stream",
     "text": [
      "ROC AUC: 0.97\n"
     ]
    },
    {
     "data": {
      "image/png": "[encoded data removed]",
      "text/plain": [
       "<matplotlib.figure.Figure at 0x115973b90>"
      ]
     },
     "metadata": {},
     "output_type": "display_data"
    }
   ],
   "source": [
    "# Calculate the AUC\n",
    "fpr, tpr, thresholds = roc_curve(ytest, forest.predict_proba(xtest)[:,1])\n",
    "roc_auc = auc(fpr, tpr)\n",
    "print 'ROC AUC: %0.2f' % roc_auc\n",
    "\n",
    "# Plot of a ROC curve for a specific class\n",
    "plt.figure()\n",
    "plt.plot(fpr, tpr, label='ROC curve (area = {})'.format(roc_auc))\n",
    "plt.plot([0, 1], [0, 1], 'k--')\n",
    "plt.xlim([0.0, 1.0])\n",
    "plt.ylim([0.0, 1.05])\n",
    "plt.xlabel('False Positive Rate')\n",
    "plt.ylabel('True Positive Rate')\n",
    "plt.title('ROC Curve')\n",
    "plt.legend(loc=\"lower right\")\n",
    "plt.show()"
   ]
  },
  {
   "cell_type": "code",
   "execution_count": 20,
   "metadata": {},
   "outputs": [
    {
     "data": {
      "image/png": "[encoded data removed]",
      "text/plain": [
       "<matplotlib.figure.Figure at 0x113090e50>"
      ]
     },
     "metadata": {},
     "output_type": "display_data"
    }
   ],
   "source": [
    "## The AUC suggests that the data are unbalanced. so the accuracy is high by increased predictions of non-adopted users\n",
    "## but the model is pretty poor in terms of its predictions. \n",
    "full_df.groupby('adopted')['object_id'].count().plot.bar()\n",
    "plt.xlabel(\"Adopted User\")\n",
    "plt.ylabel(\"Number of users\")\n",
    "plt.title(\"Count of adopter versus non-adopted users\") \n",
    "plt.show()"
   ]
  },
  {
   "cell_type": "markdown",
   "metadata": {},
   "source": [
    "### create balanced design by subsampling"
   ]
  },
  {
   "cell_type": "code",
   "execution_count": 21,
   "metadata": {},
   "outputs": [],
   "source": [
    "## create balanced design bu subsampling\n",
    "full_df_not_adopted = full_df[full_df.adopted==False]\n",
    "full_df_not_adopted_sample= full_df_not_adopted.sample(frac=0.20)\n",
    "full_df_adopted = full_df[full_df.adopted==True]\n",
    "partial_df=pd.concat([full_df_not_adopted_sample, full_df_adopted])"
   ]
  },
  {
   "cell_type": "code",
   "execution_count": 22,
   "metadata": {},
   "outputs": [],
   "source": [
    "encoder = OneHotEncoder()\n",
    "label_encoder = LabelEncoder()\n",
    "\n",
    "features = partial_df[['creation_source',\n",
    "                    'opted_in_to_mailing_list',\n",
    "                    'enabled_for_marketing_drip',\n",
    "                    'last_session_creation_time',\n",
    "                    'org_id',\n",
    "                    'month',\n",
    "                    'year']]\n",
    "target = partial_df['adopted']\n",
    "\n",
    "features.month = label_encoder.fit_transform(features['month'])\n",
    "features.year = label_encoder.fit_transform(features['year'])\n",
    "features.org_id = label_encoder.fit_transform(features['org_id'])\n",
    "features.creation_source = label_encoder.fit_transform(features['creation_source'])\n",
    "\n",
    "\n",
    "month = encoder.fit_transform(features[['month']]).toarray()\n",
    "year = encoder.fit_transform(features[['year']]).toarray()\n",
    "org = encoder.fit_transform(features[['org_id']]).toarray()\n",
    "source = encoder.fit_transform(features[['creation_source']]).toarray()\n",
    "\n",
    "\n",
    "numeric_cols = ['opted_in_to_mailing_list','enabled_for_marketing_drip','last_session_creation_time']\n",
    "numeric_features = features[numeric_cols].values\n",
    "\n",
    "Y = label_encoder.fit_transform(target)\n",
    "X=np.concatenate([month,year,org,source,numeric_features], axis=1)"
   ]
  },
  {
   "cell_type": "code",
   "execution_count": 23,
   "metadata": {},
   "outputs": [
    {
     "name": "stdout",
     "output_type": "stream",
     "text": [
      "Accuracy on training data: 1.000000\n",
      "Accuracy on test data:     0.915663\n"
     ]
    }
   ],
   "source": [
    "xtrain, xtest, ytrain, ytest = train_test_split(X,Y, test_size=0.30)\n",
    "forest = RandomForestClassifier(n_estimators = 100) \n",
    "forest = forest.fit(xtrain, ytrain)\n",
    "training_accuracy = forest.score(xtrain, ytrain)\n",
    "test_accuracy = forest.score(xtest, ytest)\n",
    "print(\"Accuracy on training data: {:2f}\".format(training_accuracy))\n",
    "print(\"Accuracy on test data:     {:2f}\".format(test_accuracy))"
   ]
  },
  {
   "cell_type": "code",
   "execution_count": 24,
   "metadata": {},
   "outputs": [],
   "source": [
    "### When we balance the design, can see that the model accuracy is pretty poor and the model is overfitting the data"
   ]
  },
  {
   "cell_type": "code",
   "execution_count": 25,
   "metadata": {},
   "outputs": [
    {
     "name": "stdout",
     "output_type": "stream",
     "text": [
      "Accuracy on training data: 0.975016\n",
      "Accuracy on test data:     0.930309\n"
     ]
    }
   ],
   "source": [
    "from sklearn.svm import SVC\n",
    "from sklearn.preprocessing import StandardScaler\n",
    "\n",
    "scaler = StandardScaler()\n",
    "X = scaler.fit_transform(X)\n",
    "\n",
    "xtrain, xtest, ytrain, ytest = train_test_split(X,Y, test_size=0.50)\n",
    "svc_clf = SVC(kernel='linear', C=1, gamma=1) \n",
    "svc_model = svc_clf.fit(xtrain, ytrain)\n",
    "training_accuracy = svc_model.score(xtrain, ytrain)\n",
    "test_accuracy = svc_model.score(xtest, ytest)\n",
    "print(\"Accuracy on training data: {:2f}\".format(training_accuracy))\n",
    "print(\"Accuracy on test data:     {:2f}\".format(test_accuracy))"
   ]
  },
  {
   "cell_type": "code",
   "execution_count": 26,
   "metadata": {},
   "outputs": [
    {
     "data": {
      "text/plain": [
       "(3042, 437)"
      ]
     },
     "execution_count": 26,
     "metadata": {},
     "output_type": "execute_result"
    }
   ],
   "source": [
    "X.shape"
   ]
  },
  {
   "cell_type": "markdown",
   "metadata": {},
   "source": [
    "## Try feature selection via chi-sq and selection from model"
   ]
  },
  {
   "cell_type": "code",
   "execution_count": 27,
   "metadata": {},
   "outputs": [
    {
     "data": {
      "text/plain": [
       "(3042, 10)"
      ]
     },
     "execution_count": 27,
     "metadata": {},
     "output_type": "execute_result"
    }
   ],
   "source": [
    "from sklearn.feature_selection import SelectKBest\n",
    "from sklearn.feature_selection import chi2\n",
    "from sklearn.preprocessing import MinMaxScaler\n",
    "Y = label_encoder.fit_transform(target)\n",
    "X=np.concatenate([month,year,org,source,numeric_features], axis=1)\n",
    "scaler = MinMaxScaler()\n",
    "X_s=scaler.fit_transform(X)\n",
    "\n",
    "X_new = SelectKBest(chi2, k=10).fit_transform(X_s, Y)\n",
    "X_new.shape"
   ]
  },
  {
   "cell_type": "code",
   "execution_count": 28,
   "metadata": {},
   "outputs": [
    {
     "name": "stdout",
     "output_type": "stream",
     "text": [
      "Accuracy on training data: 0.900723\n",
      "Accuracy on test data:     0.901381\n"
     ]
    }
   ],
   "source": [
    "from sklearn.svm import SVC\n",
    "\n",
    "xtrain, xtest, ytrain, ytest = train_test_split(X_new,Y, test_size=0.50)\n",
    "svc_clf = SVC(kernel='linear', C=1, gamma=1) \n",
    "svc_model = svc_clf.fit(xtrain, ytrain)\n",
    "training_accuracy = svc_model.score(xtrain, ytrain)\n",
    "test_accuracy = svc_model.score(xtest, ytest)\n",
    "print(\"Accuracy on training data: {:2f}\".format(training_accuracy))\n",
    "print(\"Accuracy on test data:     {:2f}\".format(test_accuracy))"
   ]
  },
  {
   "cell_type": "code",
   "execution_count": 29,
   "metadata": {},
   "outputs": [
    {
     "data": {
      "text/plain": [
       "(3042, 115)"
      ]
     },
     "execution_count": 29,
     "metadata": {},
     "output_type": "execute_result"
    }
   ],
   "source": [
    "from sklearn.feature_selection import SelectFromModel\n",
    "#use all data for feature selection\n",
    "svc_model = svc_clf.fit(X_s, Y)\n",
    "model = SelectFromModel(svc_model, prefit=True)\n",
    "X_new2 = model.transform(X_s)\n",
    "X_new2.shape"
   ]
  },
  {
   "cell_type": "code",
   "execution_count": 30,
   "metadata": {},
   "outputs": [
    {
     "name": "stdout",
     "output_type": "stream",
     "text": [
      "Accuracy on training data: 0.958580\n",
      "Accuracy on test data:     0.916502\n"
     ]
    }
   ],
   "source": [
    "## SVC\n",
    "xtrain, xtest, ytrain, ytest = train_test_split(X_new2,Y, test_size=0.50)\n",
    "svc_clf = SVC(kernel='linear', C=1, gamma=1) \n",
    "svc_model = svc_clf.fit(xtrain, ytrain)\n",
    "training_accuracy = svc_model.score(xtrain, ytrain)\n",
    "test_accuracy = svc_model.score(xtest, ytest)\n",
    "print(\"Accuracy on training data: {:2f}\".format(training_accuracy))\n",
    "print(\"Accuracy on test data:     {:2f}\".format(test_accuracy))"
   ]
  },
  {
   "cell_type": "code",
   "execution_count": 31,
   "metadata": {},
   "outputs": [
    {
     "name": "stdout",
     "output_type": "stream",
     "text": [
      "Accuracy on training data: 1.000000\n",
      "Accuracy on test data:     0.947426\n"
     ]
    }
   ],
   "source": [
    "## Random Forest\n",
    "xtrain, xtest, ytrain, ytest = train_test_split(X_new2,Y, test_size=0.30)\n",
    "forest = RandomForestClassifier(n_estimators = 100) \n",
    "forest = forest.fit(xtrain, ytrain)\n",
    "training_accuracy = forest.score(xtrain, ytrain)\n",
    "test_accuracy = forest.score(xtest, ytest)\n",
    "print(\"Accuracy on training data: {:2f}\".format(training_accuracy))\n",
    "print(\"Accuracy on test data:     {:2f}\".format(test_accuracy))"
   ]
  },
  {
   "cell_type": "code",
   "execution_count": 32,
   "metadata": {},
   "outputs": [
    {
     "name": "stdout",
     "output_type": "stream",
     "text": [
      "ROC AUC: 0.98\n"
     ]
    },
    {
     "data": {
      "image/png": "[encoded data removed]",
      "text/plain": [
       "<matplotlib.figure.Figure at 0x10da16e50>"
      ]
     },
     "metadata": {},
     "output_type": "display_data"
    }
   ],
   "source": [
    "# Calculate the AUC\n",
    "fpr, tpr, thresholds = roc_curve(ytest, forest.predict_proba(xtest)[:,1])\n",
    "roc_auc = auc(fpr, tpr)\n",
    "print 'ROC AUC: %0.2f' % roc_auc\n",
    "\n",
    "# Plot of a ROC curve for a specific class\n",
    "plt.figure()\n",
    "plt.plot(fpr, tpr, label='ROC curve (area = {})'.format(roc_auc))\n",
    "plt.plot([0, 1], [0, 1], 'k--')\n",
    "plt.xlim([0.0, 1.0])\n",
    "plt.ylim([0.0, 1.05])\n",
    "plt.xlabel('False Positive Rate')\n",
    "plt.ylabel('True Positive Rate')\n",
    "plt.title('ROC Curve')\n",
    "plt.legend(loc=\"lower right\")\n",
    "plt.show()"
   ]
  },
  {
   "cell_type": "markdown",
   "metadata": {},
   "source": [
    "## feature selection improves AUC"
   ]
  },
  {
   "cell_type": "code",
   "execution_count": null,
   "metadata": {},
   "outputs": [],
   "source": []
  }
 ],
 "metadata": {
  "kernelspec": {
   "display_name": "Python 2",
   "language": "python",
   "name": "python2"
  },
  "language_info": {
   "codemirror_mode": {
    "name": "ipython",
    "version": 2
   },
   "file_extension": ".py",
   "mimetype": "text/x-python",
   "name": "python",
   "nbconvert_exporter": "python",
   "pygments_lexer": "ipython2",
   "version": "2.7.13"
  }
 },
 "nbformat": 4,
 "nbformat_minor": 2
}
