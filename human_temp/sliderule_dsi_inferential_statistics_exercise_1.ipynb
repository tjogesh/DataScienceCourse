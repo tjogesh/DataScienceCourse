{
 "cells": [
  {
   "cell_type": "markdown",
   "metadata": {},
   "source": [
    "# What is the True Normal Human Body Temperature? \n",
    "\n",
    "#### Background\n",
    "\n",
    "The mean normal body temperature was held to be 37$^{\\circ}$C or 98.6$^{\\circ}$F for more than 120 years since it was first conceptualized and reported by Carl Wunderlich in a famous 1868 book. But, is this value statistically correct?"
   ]
  },
  {
   "cell_type": "markdown",
   "metadata": {},
   "source": [
    "<h3>Exercises</h3>\n",
    "\n",
    "<p>In this exercise, you will analyze a dataset of human body temperatures and employ the concepts of hypothesis testing, confidence intervals, and statistical significance.</p>\n",
    "\n",
    "<p>Answer the following questions <b>in this notebook below and submit to your Github account</b>.</p> \n",
    "\n",
    "<ol>\n",
    "<li>  Is the distribution of body temperatures normal? \n",
    "    <ul>\n",
    "    <li> Although this is not a requirement for CLT to hold (read CLT carefully), it gives us some peace of mind that the population may also be normally distributed if we assume that this sample is representative of the population.\n",
    "    </ul>\n",
    "<li>  Is the sample size large? Are the observations independent?\n",
    "    <ul>\n",
    "    <li> Remember that this is a condition for the CLT, and hence the statistical tests we are using, to apply.\n",
    "    </ul>\n",
    "<li>  Is the true population mean really 98.6 degrees F?\n",
    "    <ul>\n",
    "    <li> Would you use a one-sample or two-sample test? Why?\n",
    "    <li> In this situation, is it appropriate to use the $t$ or $z$ statistic? \n",
    "    <li> Now try using the other test. How is the result be different? Why?\n",
    "    </ul>\n",
    "<li>  Draw a small sample of size 10 from the data and repeat both tests. \n",
    "    <ul>\n",
    "    <li> Which one is the correct one to use? \n",
    "    <li> What do you notice? What does this tell you about the difference in application of the $t$ and $z$ statistic?\n",
    "    </ul>\n",
    "<li>  At what temperature should we consider someone's temperature to be \"abnormal\"?\n",
    "    <ul>\n",
    "    <li> Start by computing the margin of error and confidence interval.\n",
    "    </ul>\n",
    "<li>  Is there a significant difference between males and females in normal temperature?\n",
    "    <ul>\n",
    "    <li> What test did you use and why?\n",
    "    <li> Write a story with your conclusion in the context of the original problem.\n",
    "    </ul>\n",
    "</ol>\n",
    "\n",
    "You can include written notes in notebook cells using Markdown: \n",
    "   - In the control panel at the top, choose Cell > Cell Type > Markdown\n",
    "   - Markdown syntax: http://nestacms.com/docs/creating-content/markdown-cheat-sheet\n",
    "\n",
    "#### Resources\n",
    "\n",
    "+ Information and data sources: http://www.amstat.org/publications/jse/datasets/normtemp.txt, http://www.amstat.org/publications/jse/jse_data_archive.htm\n",
    "+ Markdown syntax: http://nestacms.com/docs/creating-content/markdown-cheat-sheet\n",
    "\n",
    "****"
   ]
  },
  {
   "cell_type": "code",
   "execution_count": 3,
   "metadata": {
    "collapsed": true
   },
   "outputs": [],
   "source": [
    "import pandas as pd\n",
    "\n",
    "\n",
    "\n",
    "df = pd.read_csv('data/human_body_temperature.csv')"
   ]
  },
  {
   "cell_type": "markdown",
   "metadata": {},
   "source": [
    "# Question 1"
   ]
  },
  {
   "cell_type": "code",
   "execution_count": 13,
   "metadata": {
    "collapsed": false
   },
   "outputs": [
    {
     "name": "stdout",
     "output_type": "stream",
     "text": [
      "<class 'pandas.core.frame.DataFrame'>\n",
      "RangeIndex: 130 entries, 0 to 129\n",
      "Data columns (total 3 columns):\n",
      "temperature    130 non-null float64\n",
      "gender         130 non-null object\n",
      "heart_rate     130 non-null float64\n",
      "dtypes: float64(2), object(1)\n",
      "memory usage: 3.1+ KB\n"
     ]
    }
   ],
   "source": [
    "df.head()\n",
    "df.info()"
   ]
  },
  {
   "cell_type": "code",
   "execution_count": 17,
   "metadata": {
    "collapsed": false
   },
   "outputs": [
    {
     "data": {
      "image/png": "[encoded data removed]",
      "text/plain": [
       "<matplotlib.figure.Figure at 0x116083bd0>"
      ]
     },
     "metadata": {},
     "output_type": "display_data"
    }
   ],
   "source": [
    "# plot a historgram of temperature\n",
    "import matplotlib.pyplot as plt\n",
    "import seaborn as sns\n",
    "sns.set()\n",
    "_ = plt.hist(df['temperature'], bins=10)\n",
    "_ = plt.xlabel('Temperature (Fahrenheit)')\n",
    "_ = plt.ylabel('number of people')\n",
    "plt.show()"
   ]
  },
  {
   "cell_type": "code",
   "execution_count": 41,
   "metadata": {
    "collapsed": false
   },
   "outputs": [
    {
     "data": {
      "image/png": "[encoded data removed]",
      "text/plain": [
       "<matplotlib.figure.Figure at 0x116ad73d0>"
      ]
     },
     "metadata": {},
     "output_type": "display_data"
    }
   ],
   "source": [
    "# plot a historgram of temperature with a different bin size \n",
    "import matplotlib.pyplot as plt\n",
    "import seaborn as sns\n",
    "sns.set()\n",
    "_ = plt.hist(df['temperature'], bins=30)\n",
    "_ = plt.xlabel('Temperature (Fahrenheit)')\n",
    "_ = plt.ylabel('number of people')\n",
    "plt.show()"
   ]
  },
  {
   "cell_type": "code",
   "execution_count": 39,
   "metadata": {
    "collapsed": true
   },
   "outputs": [],
   "source": [
    "## plot the ecdf instead of a histogram because of binning bias \n",
    "## compare the ecdf of simulated and real data \n",
    "\n",
    "# a function to get the x and y axes for an ecdf plot\n",
    "import numpy as np\n",
    "## write a function to get the x and y for ecdf from data \n",
    "def ecdf(data):\n",
    "    \"\"\"Compute ECDF for a one-dimensional array of measurements.\"\"\"\n",
    "    n = len(data)\n",
    "    x = np.sort(data)\n",
    "    y = np.arange(1, n+1, dtype = float) / n #returns evenly spaces values between 1 and n+1\n",
    "    return x, y"
   ]
  },
  {
   "cell_type": "code",
   "execution_count": 52,
   "metadata": {
    "collapsed": false
   },
   "outputs": [
    {
     "data": {
      "image/png": "[encoded data removed]",
      "text/plain": [
       "<matplotlib.figure.Figure at 0x116ed0150>"
      ]
     },
     "metadata": {},
     "output_type": "display_data"
    }
   ],
   "source": [
    "#caluculate the mean standard deviation and sample size to compare the sampel distribution to a normal distribution. \n",
    "\n",
    "mean = np.mean(df['temperature'])\n",
    "std = np.std(df['temperature'])\n",
    "n = len(df['temperature'])\n",
    "#simulate a normal distribution from mean and std of real data \n",
    "norm_temp= np.random.normal(mean, std, n) \n",
    "\n",
    "x,y = ecdf(df['temperature'])\n",
    "x_norm,y_norm = ecdf(norm_temp)\n",
    "_ = plt.plot(x_norm,y_norm, marker='.', linestyle='none')\n",
    "_ = plt.plot(x, y, marker='.', linestyle='none')\n",
    "_ = plt.legend(('normal','sample'), loc='lower right')\n",
    "_ = plt.xlabel('Temperature (Fahrenheit)')\n",
    "_ = plt.ylabel('ECDF')\n",
    "plt.margins(0.02) # Keeps data off plot edges\n",
    "plt.show()"
   ]
  },
  {
   "cell_type": "code",
   "execution_count": 73,
   "metadata": {
    "collapsed": false
   },
   "outputs": [
    {
     "data": {
      "text/plain": [
       "(0.9865770936012268, 0.233174666762352)"
      ]
     },
     "execution_count": 73,
     "metadata": {},
     "output_type": "execute_result"
    }
   ],
   "source": [
    "from scipy import stats\n",
    "stats.shapiro(df['temperature'])"
   ]
  },
  {
   "cell_type": "markdown",
   "metadata": {},
   "source": [
    "### The sample temperature data overlaps with the simulated normal distribution and the Shapiro Wilk test statistic (to test for normality) shows that we cannot reject the null hypothesis suggesting that the data are normally distributed "
   ]
  },
  {
   "cell_type": "markdown",
   "metadata": {},
   "source": [
    "# Question 2"
   ]
  },
  {
   "cell_type": "code",
   "execution_count": 135,
   "metadata": {
    "collapsed": false
   },
   "outputs": [
    {
     "name": "stdout",
     "output_type": "stream",
     "text": [
      "The sample size is 130\n"
     ]
    }
   ],
   "source": [
    "print(\"The sample size is \" + str(n))"
   ]
  },
  {
   "cell_type": "markdown",
   "metadata": {},
   "source": [
    "### The sample size is greater than 30 (rule of thumb for CLT) so it is large enough and the sample should be normally distributed regardless of the population distribution. Based on the data we have, the temperatures measured from each individual should be indepenent of each other (unless they were collected from one geographic region or have some other form of autocorrelation ) "
   ]
  },
  {
   "cell_type": "markdown",
   "metadata": {},
   "source": [
    "# Question 3"
   ]
  },
  {
   "cell_type": "code",
   "execution_count": 136,
   "metadata": {
    "collapsed": false
   },
   "outputs": [
    {
     "name": "stdout",
     "output_type": "stream",
     "text": [
      "The sample mean is 98.2492307692\n",
      "The t-statistic is -5.45482329236and the p-value is 2.41063204156e-07\n"
     ]
    }
   ],
   "source": [
    "from scipy import stats\n",
    "print(\"The sample mean is \" + str(mean))\n",
    "pop_mean = 98.6\n",
    "t_stat, p_value = stats.ttest_1samp(df['temperature'], pop_mean)\n",
    "print(\"The t-statistic is \" + str(t_stat) + \"and the p-value is \" + str(p_value))"
   ]
  },
  {
   "cell_type": "markdown",
   "metadata": {},
   "source": [
    "###  If the sample is infact representative of the human population, the sample mean indicates that the population mean should be 98.24 as opposed to 98.6.\n",
    "### It is appropriate to use a one-tailed test because we are comparing a distribution to a known mean as opposed to another distribution with unknown directionality. \n",
    "### It is appropriate to use the t-statistic because we don't know the standard deviation of the population (we are infering this from the standard error of the sample). "
   ]
  },
  {
   "cell_type": "code",
   "execution_count": 137,
   "metadata": {
    "collapsed": false
   },
   "outputs": [
    {
     "name": "stdout",
     "output_type": "stream",
     "text": [
      "The z-statistic is -5.47592520208and the p-value is 2.17615758294e-08\n"
     ]
    }
   ],
   "source": [
    "from scipy import stats\n",
    "se = std/np.sqrt(n)\n",
    "z_score = (mean-pop_mean)/se\n",
    "p_value = stats.norm.sf(abs(z_score))\n",
    "print(\"The z-statistic is \" + str(z_score) + \"and the p-value is \" + str(p_value))"
   ]
  },
  {
   "cell_type": "markdown",
   "metadata": {},
   "source": [
    "### The result is not different because the sample size is large. When sample sizes are large the t-distribution approximates the normal distribution "
   ]
  },
  {
   "cell_type": "markdown",
   "metadata": {},
   "source": [
    "# Question 4"
   ]
  },
  {
   "cell_type": "code",
   "execution_count": 138,
   "metadata": {
    "collapsed": true
   },
   "outputs": [],
   "source": [
    "small_sample = np.random.choice(df['temperature'], size=10)\n"
   ]
  },
  {
   "cell_type": "code",
   "execution_count": 139,
   "metadata": {
    "collapsed": false
   },
   "outputs": [
    {
     "data": {
      "image/png": "[encoded data removed]",
      "text/plain": [
       "<matplotlib.figure.Figure at 0x116464690>"
      ]
     },
     "metadata": {},
     "output_type": "display_data"
    }
   ],
   "source": [
    "## ploting histogram of small sample\n",
    "sns.set()\n",
    "_ = plt.hist(small_sample, bins=10)\n",
    "_ = plt.xlabel('Temperature (Fahrenheit)')\n",
    "_ = plt.ylabel('number of people')\n",
    "plt.show()"
   ]
  },
  {
   "cell_type": "code",
   "execution_count": 140,
   "metadata": {
    "collapsed": false
   },
   "outputs": [
    {
     "data": {
      "image/png": "[encoded data removed]",
      "text/plain": [
       "<matplotlib.figure.Figure at 0x117217090>"
      ]
     },
     "metadata": {},
     "output_type": "display_data"
    }
   ],
   "source": [
    "## ploting ecdf of small sample and comparing it to a normal distribution \n",
    "x_small,y_small = ecdf(small_sample)\n",
    "x_norm,y_norm = ecdf(norm_temp)\n",
    "_ = plt.plot(x_norm,y_norm, marker='.', linestyle='none')\n",
    "_ = plt.plot(x_small,y_small, marker='.', linestyle='none')\n",
    "_ = plt.legend(('normal','sample'), loc='lower right')\n",
    "_ = plt.xlabel('Temperature (Fahrenheit)')\n",
    "_ = plt.ylabel('ECDF')\n",
    "plt.margins(0.02) # Keeps data off plot edges\n",
    "plt.show()"
   ]
  },
  {
   "cell_type": "code",
   "execution_count": 141,
   "metadata": {
    "collapsed": false
   },
   "outputs": [
    {
     "name": "stdout",
     "output_type": "stream",
     "text": [
      "The t-statistic is -2.91547594742and the p-value is 0.0171576592249\n",
      "The z-statistic is -3.07318148576and the p-value is 0.00105894821199\n"
     ]
    }
   ],
   "source": [
    "t_stat, p_valuet = stats.ttest_1samp(small_sample, pop_mean)\n",
    "se_small = np.std(small_sample)/np.sqrt(10)\n",
    "z_score = (np.mean(small_sample)-pop_mean)/se_small\n",
    "p_valuez = stats.norm.sf(abs(z_score))\n",
    "print(\"The t-statistic is \" + str(t_stat) + \"and the p-value is \" + str(p_valuet))\n",
    "print(\"The z-statistic is \" + str(z_score) + \"and the p-value is \" + str(p_valuez))"
   ]
  },
  {
   "cell_type": "markdown",
   "metadata": {},
   "source": [
    "## Because the sub sampled data is are no longer normally distributed the z-test (and the t-test) are not appropriate. However, the t-distribution tends to perform more accurately with small sample sizes "
   ]
  },
  {
   "cell_type": "markdown",
   "metadata": {},
   "source": [
    "# Question 5"
   ]
  },
  {
   "cell_type": "code",
   "execution_count": 142,
   "metadata": {
    "collapsed": false
   },
   "outputs": [
    {
     "name": "stdout",
     "output_type": "stream",
     "text": [
      "The 95% margin of error is 0.125550964803and the confidence interval is (98.123679804428193, 98.374781734033363)\n"
     ]
    }
   ],
   "source": [
    "#margin of error (95%) = z-value * standard error, The the z-value for 95% is 1.96 \n",
    "MOE = 1.96 * se\n",
    "CI = (mean-MOE,mean+MOE )\n",
    "print(\"The 95% margin of error is \" + str(MOE) + \"and the confidence interval is \" + str(CI))\n"
   ]
  },
  {
   "cell_type": "markdown",
   "metadata": {},
   "source": [
    "### the 95% CI shows that the mean body temperature should fall between (98.12, 98.37) 95% of the time. However, this does not imply that 95% of the population should have this range of body temperature. Normal body temperature should fall within the 2.5 and and  97.5 percentiles of the distribution. "
   ]
  },
  {
   "cell_type": "code",
   "execution_count": 143,
   "metadata": {
    "collapsed": false
   },
   "outputs": [
    {
     "name": "stdout",
     "output_type": "stream",
     "text": [
      "Normal body temperature should fall between the range of 96.7225and 99.4775\n"
     ]
    }
   ],
   "source": [
    "#Caluclating the 2.5 and and  97.5 percentiles of the distribution\n",
    "top_per, bottom_per = np.percentile(df['temperature'],[2.5,97.5])\n",
    "print(\"Normal body temperature should fall between the range of \" + str(top_per) + \"and \" + str(bottom_per))"
   ]
  },
  {
   "cell_type": "markdown",
   "metadata": {},
   "source": [
    "# Question 6"
   ]
  },
  {
   "cell_type": "code",
   "execution_count": 145,
   "metadata": {
    "collapsed": false
   },
   "outputs": [
    {
     "data": {
      "image/png": "[encoded data removed]",
      "text/plain": [
       "<matplotlib.figure.Figure at 0x117223a90>"
      ]
     },
     "metadata": {},
     "output_type": "display_data"
    }
   ],
   "source": [
    "## ploting histogram of small sample\n",
    "sns.set()\n",
    "ax = sns.boxplot(x=\"gender\", y=\"temperature\", data=df)\n",
    "ax.set_xlabel(\"Gender\")\n",
    "ax.set_ylabel(\"Temperature (F)\")\n",
    "plt.show()"
   ]
  },
  {
   "cell_type": "code",
   "execution_count": 148,
   "metadata": {
    "collapsed": false
   },
   "outputs": [
    {
     "name": "stdout",
     "output_type": "stream",
     "text": [
      "The t-statistic is -2.28543453817and the p-value is 0.0239318831224\n",
      "Women are 0.29 F warmer than men\n"
     ]
    }
   ],
   "source": [
    "male = df['temperature'].loc[(df.gender == 'M')]\n",
    "female = df['temperature'].loc[(df.gender == 'F')]\n",
    "t_stat_gender,p_value_gender =  stats.ttest_ind(male, female)\n",
    "print(\"The t-statistic is \" + str(t_stat_gender) + \"and the p-value is \" + str(p_value_gender))\n",
    "print(\"Women are \" + str(round(np.mean(female)-np.mean(male),2)) + \" F warmer than men\")"
   ]
  },
  {
   "cell_type": "markdown",
   "metadata": {},
   "source": [
    "### Women tend to have slighly higher body temperature compared to men as indicated in the graph and as supported by the two-tailed t-test which shows that the means are signifcantly different from each other with alpha = 0.05. The two-tailed t-test is appropriate here because we are comparing the means of two normally distributed samples where one distribution can have a higher mean than the other in any direction.   "
   ]
  },
  {
   "cell_type": "markdown",
   "metadata": {},
   "source": [
    "## Our exploratory analyses suggest that the mean human body temperature should fall in the range of 98.12, 98.37 (with 95% confidence) and is not actually 98.6 as was first reported by Carl Wunderlich. Our sample sizes are large enough to make this inference about the population as long as the sample is representative of the population. Our data also show that women are on average 0.29 F warmer compared to men.  "
   ]
  },
  {
   "cell_type": "code",
   "execution_count": null,
   "metadata": {
    "collapsed": true
   },
   "outputs": [],
   "source": []
  }
 ],
 "metadata": {
  "kernelspec": {
   "display_name": "Python 2",
   "language": "python",
   "name": "python2"
  },
  "language_info": {
   "codemirror_mode": {
    "name": "ipython",
    "version": 2
   },
   "file_extension": ".py",
   "mimetype": "text/x-python",
   "name": "python",
   "nbconvert_exporter": "python",
   "pygments_lexer": "ipython2",
   "version": "2.7.13"
  }
 },
 "nbformat": 4,
 "nbformat_minor": 1
}
